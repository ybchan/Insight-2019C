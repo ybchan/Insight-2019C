{
  "nbformat": 4,
  "nbformat_minor": 0,
  "metadata": {
    "colab": {
      "name": "insightproject.ipynb",
      "provenance": [],
      "collapsed_sections": []
    },
    "kernelspec": {
      "name": "python3",
      "display_name": "Python 3"
    },
    "accelerator": "GPU"
  },
  "cells": [
    {
      "cell_type": "code",
      "metadata": {
        "id": "RBSucKpS9pLR",
        "colab_type": "code",
        "colab": {}
      },
      "source": [
        ""
      ],
      "execution_count": 0,
      "outputs": []
    },
    {
      "cell_type": "markdown",
      "metadata": {
        "id": "csw-59sjTXvv",
        "colab_type": "text"
      },
      "source": [
        "# Sugar Fairy\n",
        "## A candy allergens detector\n",
        "Food allergy is a serious issue in US. Over 5 millions children have food allergy and the number is increasing year by year according to CDC data. Among all processed food, candy is the most problematic one. Barcode and ingredient lists could be missing, especially for Halloween Candy. To solve this problem, I develop a CNN model to recognize candy and warn users for potential food allergens.   "
      ]
    },
    {
      "cell_type": "markdown",
      "metadata": {
        "id": "dc--pD3t-kZ1",
        "colab_type": "text"
      },
      "source": [
        "## Data Preparation\n",
        "To limit the scope of this project, I focused on 10 different common candy. Images of 10 candies (~200 each) were stoered in different sub-directories. They were resized into 224x224 and loaded into numpy array as input for CNN model. Corresponding labels was created and converted to categorical array using one-hot encoding."
      ]
    },
    {
      "cell_type": "code",
      "metadata": {
        "id": "TQ--GSoesgYc",
        "colab_type": "code",
        "outputId": "d4f5dfa3-9863-4794-d821-53f26338e33f",
        "colab": {
          "base_uri": "https://localhost:8080/",
          "height": 34
        }
      },
      "source": [
        "# import common library\n",
        "import os\n",
        "import numpy as np\n",
        "import pandas as pd\n",
        "import matplotlib.pyplot as plt\n",
        "import seaborn as sns\n",
        "from seaborn import heatmap\n",
        "\n",
        "# import keras library\n",
        "import keras\n",
        "from keras.preprocessing import image\n",
        "from keras.preprocessing.image import ImageDataGenerator\n",
        "\n",
        "from keras.models import Model\n",
        "from keras.models import load_model\n",
        "from keras.layers import Dense, GlobalAveragePooling2D\n",
        "from keras import backend as K\n",
        "from keras.optimizers import SGD\n",
        "\n",
        "from sklearn.metrics import confusion_matrix\n",
        "from sklearn.metrics import accuracy_score\n",
        "from sklearn.model_selection import train_test_split"
      ],
      "execution_count": 1,
      "outputs": [
        {
          "output_type": "stream",
          "text": [
            "Using TensorFlow backend.\n"
          ],
          "name": "stderr"
        }
      ]
    },
    {
      "cell_type": "code",
      "metadata": {
        "id": "uyfcc09nl6eS",
        "colab_type": "code",
        "outputId": "09689a78-7fa8-44d5-e121-cd636b6c061f",
        "colab": {
          "base_uri": "https://localhost:8080/",
          "height": 169
        }
      },
      "source": [
        "# connect to google drive to acquire image data\n",
        "from google.colab import drive\n",
        "drive.mount('/content/drive')"
      ],
      "execution_count": 2,
      "outputs": [
        {
          "output_type": "stream",
          "text": [
            "Go to this URL in a browser: https://accounts.google.com/o/oauth2/auth?client_id=947318989803-6bn6qk8qdgf4n4g3pfee6491hc0brc4i.apps.googleusercontent.com&redirect_uri=urn%3Aietf%3Awg%3Aoauth%3A2.0%3Aoob&scope=email%20https%3A%2F%2Fwww.googleapis.com%2Fauth%2Fdocs.test%20https%3A%2F%2Fwww.googleapis.com%2Fauth%2Fdrive%20https%3A%2F%2Fwww.googleapis.com%2Fauth%2Fdrive.photos.readonly%20https%3A%2F%2Fwww.googleapis.com%2Fauth%2Fpeopleapi.readonly&response_type=code\n",
            "\n",
            "Enter your authorization code:\n",
            "··········\n",
            "Mounted at /content/drive\n"
          ],
          "name": "stdout"
        }
      ]
    },
    {
      "cell_type": "code",
      "metadata": {
        "id": "fjCFepmB6OpS",
        "colab_type": "code",
        "colab": {}
      },
      "source": [
        "# general path to google drive\n",
        "path = '/content/drive/My Drive/candy/'\n",
        "\n",
        "# sub directory with image data\n",
        "dir_list = [\"kitkat\",\n",
        "            \"m&ms p\",\n",
        "            \"m&ms m\",\n",
        "            \"m&ms pb\",\n",
        "            \"snicker\",\n",
        "            \"snicker p\",\n",
        "            \"snicker a\",\n",
        "            \"reese\",\n",
        "            \"heath\",\n",
        "            \"whopper\"\n",
        "           ]"
      ],
      "execution_count": 0,
      "outputs": []
    },
    {
      "cell_type": "code",
      "metadata": {
        "id": "6OatJ3hO-YMX",
        "colab_type": "code",
        "colab": {}
      },
      "source": [
        "# generate label\n",
        "label = np.zeros(0)\n",
        "\n",
        "for i in range(len(dir_list)):\n",
        "  file_count = len(os.listdir(path+dir_list[i]))\n",
        "  label = np.concatenate((label, np.full(file_count, i)))"
      ],
      "execution_count": 0,
      "outputs": []
    },
    {
      "cell_type": "code",
      "metadata": {
        "id": "-PQGv32hr7cg",
        "colab_type": "code",
        "outputId": "cbf49503-d6ee-43c2-8328-24d609acb601",
        "colab": {
          "base_uri": "https://localhost:8080/",
          "height": 34
        }
      },
      "source": [
        "# one-hot encoding for label column \n",
        "label = keras.utils.to_categorical(label, len(dir_list))\n",
        "\n",
        "# sanity check\n",
        "label.shape"
      ],
      "execution_count": 5,
      "outputs": [
        {
          "output_type": "execute_result",
          "data": {
            "text/plain": [
              "(1994, 10)"
            ]
          },
          "metadata": {
            "tags": []
          },
          "execution_count": 5
        }
      ]
    },
    {
      "cell_type": "code",
      "metadata": {
        "id": "nlEpUFh_m6ji",
        "colab_type": "code",
        "colab": {}
      },
      "source": [
        "# generate image dataset\n",
        "data = []\n",
        "for d in dir_list:\n",
        "  dir_path = path + d +\"/\"\n",
        "  \n",
        "  for file in os.listdir(dir_path):\n",
        "    img_path = dir_path + file\n",
        "    img = image.load_img(img_path, target_size=(224, 224))\n",
        "    x = image.img_to_array(img)\n",
        "    x = np.expand_dims(x, axis=0)\n",
        "    data.append(x)\n",
        "\n",
        "data = np.concatenate(data, axis=0)"
      ],
      "execution_count": 0,
      "outputs": []
    },
    {
      "cell_type": "code",
      "metadata": {
        "id": "YQaGlSiuo50m",
        "colab_type": "code",
        "outputId": "e2170240-6666-4367-b842-095c97c84a2a",
        "colab": {
          "base_uri": "https://localhost:8080/",
          "height": 34
        }
      },
      "source": [
        "# sanity check\n",
        "data.shape"
      ],
      "execution_count": 7,
      "outputs": [
        {
          "output_type": "execute_result",
          "data": {
            "text/plain": [
              "(1994, 224, 224, 3)"
            ]
          },
          "metadata": {
            "tags": []
          },
          "execution_count": 7
        }
      ]
    },
    {
      "cell_type": "code",
      "metadata": {
        "id": "GdmTGI57digQ",
        "colab_type": "code",
        "colab": {}
      },
      "source": [
        "# save raw data\n",
        "raw_data = data[:,:,:,:]"
      ],
      "execution_count": 0,
      "outputs": []
    },
    {
      "cell_type": "markdown",
      "metadata": {
        "id": "zgqoFXj_bokg",
        "colab_type": "text"
      },
      "source": [
        "There were a total of 1994 images of 10 diffferent types of candy. Images were in RGB color with size of 224x224. For sanity check, one example was showed below."
      ]
    },
    {
      "cell_type": "code",
      "metadata": {
        "id": "m5JnGev9m6xp",
        "colab_type": "code",
        "outputId": "861df0fb-80d8-450b-8867-895fd4d0b027",
        "colab": {
          "base_uri": "https://localhost:8080/",
          "height": 269
        }
      },
      "source": [
        "# example of image data\n",
        "plt.imshow(data[100]/255)\n",
        "plt.show()"
      ],
      "execution_count": 9,
      "outputs": [
        {
          "output_type": "display_data",
          "data": {
            "image/png": "[encoded data removed]",
            "text/plain": [
              "<Figure size 432x288 with 1 Axes>"
            ]
          },
          "metadata": {
            "tags": []
          }
        }
      ]
    },
    {
      "cell_type": "markdown",
      "metadata": {
        "id": "-VW82B9uACLg",
        "colab_type": "text"
      },
      "source": [
        "## Transfer learning with pre-trained InceptionV3 model\n",
        "I used InceptionV3, a common modern CNN model, as my base model to test the performance of CNN on candy image classification. In order to create a more robust model, I used image augmentation to increase the diversity of my training dataset. Rotation, zooming, shifting, shearing and brightness adjustment were applied randomly to generate the training data."
      ]
    },
    {
      "cell_type": "code",
      "metadata": {
        "id": "-4IoB4se1wxQ",
        "colab_type": "code",
        "colab": {}
      },
      "source": [
        "# function to preprocess data for InceptionV3 \n",
        "def preprocess_inception(x):\n",
        "    tmp = x/255.\n",
        "    tmp -= 0.5\n",
        "    tmp *= 2.\n",
        "    return tmp"
      ],
      "execution_count": 0,
      "outputs": []
    },
    {
      "cell_type": "code",
      "metadata": {
        "id": "khYlbPlDuW1p",
        "colab_type": "code",
        "colab": {}
      },
      "source": [
        "# create train test data for inceptionV3\n",
        "X_train, X_test, y_train, y_test = train_test_split(preprocess_inception(data), label, test_size=0.2, random_state=1)\n"
      ],
      "execution_count": 0,
      "outputs": []
    },
    {
      "cell_type": "code",
      "metadata": {
        "id": "Fp9jSy4lptqC",
        "colab_type": "code",
        "colab": {}
      },
      "source": [
        "from keras.applications.inception_v3 import InceptionV3\n",
        "\n",
        "# create the base pre-trained model\n",
        "base_model = InceptionV3(weights='imagenet', include_top=False)"
      ],
      "execution_count": 0,
      "outputs": []
    },
    {
      "cell_type": "code",
      "metadata": {
        "id": "4HiKsBUkptlo",
        "colab_type": "code",
        "colab": {}
      },
      "source": [
        "# add a global spatial average pooling layer\n",
        "x = base_model.output\n",
        "x = GlobalAveragePooling2D()(x)\n",
        "\n",
        "# add a fully-connected layer\n",
        "x = Dense(256, activation='relu')(x)\n",
        "\n",
        "# and a softmax layer for multiclass classification \n",
        "predictions = Dense(len(dir_list), activation='softmax')(x)"
      ],
      "execution_count": 0,
      "outputs": []
    },
    {
      "cell_type": "code",
      "metadata": {
        "id": "RtJOS3THrR_r",
        "colab_type": "code",
        "colab": {
          "base_uri": "https://localhost:8080/",
          "height": 145
        },
        "outputId": "cea29c04-222a-4532-8d32-babd1519e94e"
      },
      "source": [
        "# create the final model\n",
        "model = Model(inputs=base_model.input, outputs=predictions)\n",
        "\n",
        "# freeze all convolutional InceptionV3 layers \n",
        "for layer in base_model.layers:\n",
        "    layer.trainable = False\n",
        "\n",
        "# compile the model\n",
        "model.compile(optimizer='rmsprop', loss='categorical_crossentropy', metrics=['accuracy'])\n"
      ],
      "execution_count": 15,
      "outputs": [
        {
          "output_type": "stream",
          "text": [
            "WARNING:tensorflow:From /usr/local/lib/python3.6/dist-packages/keras/optimizers.py:793: The name tf.train.Optimizer is deprecated. Please use tf.compat.v1.train.Optimizer instead.\n",
            "\n",
            "WARNING:tensorflow:From /usr/local/lib/python3.6/dist-packages/keras/backend/tensorflow_backend.py:3576: The name tf.log is deprecated. Please use tf.math.log instead.\n",
            "\n"
          ],
          "name": "stdout"
        }
      ]
    },
    {
      "cell_type": "code",
      "metadata": {
        "id": "Q4ZVpSPLTEBq",
        "colab_type": "code",
        "colab": {}
      },
      "source": [
        "# set image augmentation parameter \n",
        "aug = ImageDataGenerator(rotation_range=90, zoom_range=0.2,\n",
        "\twidth_shift_range=0.2, height_shift_range=0.2, shear_range=0.15,\n",
        "  brightness_range=[0.7,1.3], fill_mode=\"nearest\")"
      ],
      "execution_count": 0,
      "outputs": []
    },
    {
      "cell_type": "code",
      "metadata": {
        "id": "uOqfQ8k-rx37",
        "colab_type": "code",
        "outputId": "624cab79-9931-4fb1-fb96-8815bffcd852",
        "colab": {
          "base_uri": "https://localhost:8080/",
          "height": 985
        }
      },
      "source": [
        "# initialize the number of epochs and batch size\n",
        "EPOCHS = 5\n",
        "BS = 50\n",
        " \n",
        "# train the network\n",
        "H = model.fit_generator(aug.flow(X_train, y_train, batch_size=BS),\n",
        "\tvalidation_data=(X_test, y_test), steps_per_epoch=len(X_train) // BS,\n",
        "\tepochs=EPOCHS)"
      ],
      "execution_count": 17,
      "outputs": [
        {
          "output_type": "stream",
          "text": [
            "WARNING:tensorflow:From /usr/local/lib/python3.6/dist-packages/tensorflow_core/python/ops/math_grad.py:1424: where (from tensorflow.python.ops.array_ops) is deprecated and will be removed in a future version.\n",
            "Instructions for updating:\n",
            "Use tf.where in 2.0, which has the same broadcast rule as np.where\n",
            "WARNING:tensorflow:From /usr/local/lib/python3.6/dist-packages/keras/backend/tensorflow_backend.py:1033: The name tf.assign_add is deprecated. Please use tf.compat.v1.assign_add instead.\n",
            "\n",
            "WARNING:tensorflow:From /usr/local/lib/python3.6/dist-packages/keras/backend/tensorflow_backend.py:1020: The name tf.assign is deprecated. Please use tf.compat.v1.assign instead.\n",
            "\n",
            "Epoch 1/5\n",
            "31/31 [==============================] - 32s 1s/step - loss: 2.0807 - acc: 0.3738 - val_loss: 1.5910 - val_acc: 0.4812\n",
            "Epoch 2/5\n",
            "31/31 [==============================] - 24s 762ms/step - loss: 1.1062 - acc: 0.6598 - val_loss: 3.0986 - val_acc: 0.3058\n",
            "Epoch 3/5\n",
            "31/31 [==============================] - 23s 739ms/step - loss: 0.8563 - acc: 0.7248 - val_loss: 5.0313 - val_acc: 0.2982\n",
            "Epoch 4/5\n",
            "31/31 [==============================] - 23s 727ms/step - loss: 0.6727 - acc: 0.7737 - val_loss: 4.1735 - val_acc: 0.2982\n",
            "Epoch 5/5\n",
            "31/31 [==============================] - 22s 714ms/step - loss: 0.5823 - acc: 0.8100 - val_loss: 3.8888 - val_acc: 0.3509\n"
          ],
          "name": "stdout"
        }
      ]
    },
    {
      "cell_type": "code",
      "metadata": {
        "id": "JFyG0CCa90sr",
        "colab_type": "code",
        "colab": {}
      },
      "source": [
        "# helper function to plot result\n",
        "def plot_history(hist, epochs):\n",
        "  acc = hist.history[\"acc\"]\n",
        "  val_acc = hist.history[\"val_acc\"]\n",
        "  ep = range(1, len(acc)+1)\n",
        "  \n",
        "  plt.plot(ep, acc, \"b\", label=\"Training acc\")\n",
        "  plt.plot(ep, val_acc, \"r\", label=\"Validation acc\")\n",
        "  plt.title(\"Training and validation accuracy\")\n",
        "  plt.xticks(np.arange(0, epochs+1, step=epochs/10))\n",
        "  plt.xlabel(\"Epochs\")\n",
        "  plt.ylabel(\"Accuracy\")\n",
        "  plt.legend()\n",
        "  plt.show()"
      ],
      "execution_count": 0,
      "outputs": []
    },
    {
      "cell_type": "code",
      "metadata": {
        "id": "LLv5fcudrx_I",
        "colab_type": "code",
        "outputId": "f45b58dc-93d6-47b7-f058-18cf4ce43010",
        "colab": {
          "base_uri": "https://localhost:8080/",
          "height": 1000
        }
      },
      "source": [
        "# at this point, the top layers are well trained and we can start fine-tuning\n",
        "# convolutional layers from inception V3. \n",
        "for layer in model.layers[:197]:\n",
        "   layer.trainable = False\n",
        "for layer in model.layers[197:]:\n",
        "   layer.trainable = True\n",
        "\n",
        "model.compile(optimizer=SGD(lr=0.0001, momentum=0.9), loss='categorical_crossentropy', metrics=['accuracy'])\n",
        "\n",
        "H = model.fit_generator(aug.flow(X_train, y_train, batch_size=BS),\n",
        "\tvalidation_data=(X_test, y_test), steps_per_epoch=len(X_train) // BS,\n",
        "\tepochs=50)"
      ],
      "execution_count": 21,
      "outputs": [
        {
          "output_type": "stream",
          "text": [
            "Epoch 1/50\n",
            "31/31 [==============================] - 32s 1s/step - loss: 0.6202 - acc: 0.7953 - val_loss: 1.2777 - val_acc: 0.5739\n",
            "Epoch 2/50\n",
            "31/31 [==============================] - 26s 835ms/step - loss: 0.3862 - acc: 0.8842 - val_loss: 0.9601 - val_acc: 0.6541\n",
            "Epoch 3/50\n",
            "31/31 [==============================] - 26s 836ms/step - loss: 0.3217 - acc: 0.9086 - val_loss: 0.8555 - val_acc: 0.6942\n",
            "Epoch 4/50\n",
            "31/31 [==============================] - 26s 827ms/step - loss: 0.2621 - acc: 0.9338 - val_loss: 0.8088 - val_acc: 0.7193\n",
            "Epoch 5/50\n",
            "31/31 [==============================] - 26s 824ms/step - loss: 0.2720 - acc: 0.9219 - val_loss: 0.7530 - val_acc: 0.7343\n",
            "Epoch 6/50\n",
            "31/31 [==============================] - 27s 868ms/step - loss: 0.2500 - acc: 0.9282 - val_loss: 0.7029 - val_acc: 0.7569\n",
            "Epoch 7/50\n",
            "31/31 [==============================] - 24s 776ms/step - loss: 0.2254 - acc: 0.9348 - val_loss: 0.6797 - val_acc: 0.7694\n",
            "Epoch 8/50\n",
            "31/31 [==============================] - 25s 792ms/step - loss: 0.2303 - acc: 0.9271 - val_loss: 0.6566 - val_acc: 0.7744\n",
            "Epoch 9/50\n",
            "31/31 [==============================] - 25s 798ms/step - loss: 0.2151 - acc: 0.9425 - val_loss: 0.6395 - val_acc: 0.7845\n",
            "Epoch 10/50\n",
            "31/31 [==============================] - 25s 793ms/step - loss: 0.2039 - acc: 0.9456 - val_loss: 0.6271 - val_acc: 0.7845\n",
            "Epoch 11/50\n",
            "31/31 [==============================] - 25s 793ms/step - loss: 0.2018 - acc: 0.9419 - val_loss: 0.5972 - val_acc: 0.7970\n",
            "Epoch 12/50\n",
            "31/31 [==============================] - 24s 787ms/step - loss: 0.1969 - acc: 0.9483 - val_loss: 0.5861 - val_acc: 0.7995\n",
            "Epoch 13/50\n",
            "31/31 [==============================] - 24s 790ms/step - loss: 0.1846 - acc: 0.9482 - val_loss: 0.5840 - val_acc: 0.8045\n",
            "Epoch 14/50\n",
            "31/31 [==============================] - 24s 786ms/step - loss: 0.1859 - acc: 0.9434 - val_loss: 0.5691 - val_acc: 0.8020\n",
            "Epoch 15/50\n",
            "31/31 [==============================] - 24s 784ms/step - loss: 0.1692 - acc: 0.9528 - val_loss: 0.5607 - val_acc: 0.8145\n",
            "Epoch 16/50\n",
            "31/31 [==============================] - 25s 790ms/step - loss: 0.1842 - acc: 0.9476 - val_loss: 0.5414 - val_acc: 0.8221\n",
            "Epoch 17/50\n",
            "31/31 [==============================] - 24s 785ms/step - loss: 0.1487 - acc: 0.9600 - val_loss: 0.5349 - val_acc: 0.8170\n",
            "Epoch 18/50\n",
            "31/31 [==============================] - 24s 789ms/step - loss: 0.1604 - acc: 0.9566 - val_loss: 0.5065 - val_acc: 0.8296\n",
            "Epoch 19/50\n",
            "31/31 [==============================] - 24s 789ms/step - loss: 0.1662 - acc: 0.9541 - val_loss: 0.4936 - val_acc: 0.8346\n",
            "Epoch 20/50\n",
            "31/31 [==============================] - 24s 782ms/step - loss: 0.1463 - acc: 0.9643 - val_loss: 0.4875 - val_acc: 0.8371\n",
            "Epoch 21/50\n",
            "31/31 [==============================] - 25s 791ms/step - loss: 0.1543 - acc: 0.9523 - val_loss: 0.5030 - val_acc: 0.8371\n",
            "Epoch 22/50\n",
            "31/31 [==============================] - 25s 793ms/step - loss: 0.1552 - acc: 0.9573 - val_loss: 0.4760 - val_acc: 0.8446\n",
            "Epoch 23/50\n",
            "31/31 [==============================] - 24s 785ms/step - loss: 0.1319 - acc: 0.9656 - val_loss: 0.4762 - val_acc: 0.8421\n",
            "Epoch 24/50\n",
            "31/31 [==============================] - 24s 782ms/step - loss: 0.1312 - acc: 0.9613 - val_loss: 0.4648 - val_acc: 0.8471\n",
            "Epoch 25/50\n",
            "31/31 [==============================] - 24s 782ms/step - loss: 0.1383 - acc: 0.9610 - val_loss: 0.4573 - val_acc: 0.8471\n",
            "Epoch 26/50\n",
            "31/31 [==============================] - 24s 779ms/step - loss: 0.1301 - acc: 0.9661 - val_loss: 0.4488 - val_acc: 0.8496\n",
            "Epoch 27/50\n",
            "31/31 [==============================] - 24s 785ms/step - loss: 0.1295 - acc: 0.9690 - val_loss: 0.4444 - val_acc: 0.8521\n",
            "Epoch 28/50\n",
            "31/31 [==============================] - 25s 793ms/step - loss: 0.1296 - acc: 0.9639 - val_loss: 0.4401 - val_acc: 0.8496\n",
            "Epoch 29/50\n",
            "31/31 [==============================] - 25s 804ms/step - loss: 0.1102 - acc: 0.9708 - val_loss: 0.4373 - val_acc: 0.8521\n",
            "Epoch 30/50\n",
            "31/31 [==============================] - 25s 803ms/step - loss: 0.1163 - acc: 0.9701 - val_loss: 0.4314 - val_acc: 0.8521\n",
            "Epoch 31/50\n",
            "31/31 [==============================] - 25s 795ms/step - loss: 0.1251 - acc: 0.9663 - val_loss: 0.4084 - val_acc: 0.8571\n",
            "Epoch 32/50\n",
            "31/31 [==============================] - 25s 795ms/step - loss: 0.1062 - acc: 0.9729 - val_loss: 0.3990 - val_acc: 0.8697\n",
            "Epoch 33/50\n",
            "31/31 [==============================] - 24s 786ms/step - loss: 0.1095 - acc: 0.9696 - val_loss: 0.4036 - val_acc: 0.8647\n",
            "Epoch 34/50\n",
            "31/31 [==============================] - 25s 817ms/step - loss: 0.1074 - acc: 0.9715 - val_loss: 0.4151 - val_acc: 0.8571\n",
            "Epoch 35/50\n",
            "31/31 [==============================] - 25s 809ms/step - loss: 0.1058 - acc: 0.9729 - val_loss: 0.4108 - val_acc: 0.8622\n",
            "Epoch 36/50\n",
            "31/31 [==============================] - 25s 803ms/step - loss: 0.0964 - acc: 0.9748 - val_loss: 0.3999 - val_acc: 0.8697\n",
            "Epoch 37/50\n",
            "31/31 [==============================] - 25s 808ms/step - loss: 0.1017 - acc: 0.9748 - val_loss: 0.4026 - val_acc: 0.8622\n",
            "Epoch 38/50\n",
            "31/31 [==============================] - 25s 809ms/step - loss: 0.1073 - acc: 0.9688 - val_loss: 0.4081 - val_acc: 0.8647\n",
            "Epoch 39/50\n",
            "31/31 [==============================] - 25s 810ms/step - loss: 0.1031 - acc: 0.9709 - val_loss: 0.4018 - val_acc: 0.8672\n",
            "Epoch 40/50\n",
            "31/31 [==============================] - 25s 809ms/step - loss: 0.0978 - acc: 0.9754 - val_loss: 0.3947 - val_acc: 0.8697\n",
            "Epoch 41/50\n",
            "31/31 [==============================] - 25s 805ms/step - loss: 0.0965 - acc: 0.9735 - val_loss: 0.3988 - val_acc: 0.8672\n",
            "Epoch 42/50\n",
            "31/31 [==============================] - 25s 801ms/step - loss: 0.0861 - acc: 0.9799 - val_loss: 0.3898 - val_acc: 0.8697\n",
            "Epoch 43/50\n",
            "31/31 [==============================] - 25s 816ms/step - loss: 0.0870 - acc: 0.9767 - val_loss: 0.3883 - val_acc: 0.8772\n",
            "Epoch 44/50\n",
            "31/31 [==============================] - 25s 811ms/step - loss: 0.0808 - acc: 0.9800 - val_loss: 0.3780 - val_acc: 0.8772\n",
            "Epoch 45/50\n",
            "31/31 [==============================] - 25s 805ms/step - loss: 0.0884 - acc: 0.9784 - val_loss: 0.3850 - val_acc: 0.8747\n",
            "Epoch 46/50\n",
            "31/31 [==============================] - 25s 814ms/step - loss: 0.0998 - acc: 0.9694 - val_loss: 0.3861 - val_acc: 0.8772\n",
            "Epoch 47/50\n",
            "31/31 [==============================] - 25s 810ms/step - loss: 0.0975 - acc: 0.9748 - val_loss: 0.3846 - val_acc: 0.8772\n",
            "Epoch 48/50\n",
            "31/31 [==============================] - 25s 802ms/step - loss: 0.0849 - acc: 0.9787 - val_loss: 0.3787 - val_acc: 0.8797\n",
            "Epoch 49/50\n",
            "31/31 [==============================] - 25s 800ms/step - loss: 0.0801 - acc: 0.9812 - val_loss: 0.3814 - val_acc: 0.8747\n",
            "Epoch 50/50\n",
            "31/31 [==============================] - 25s 804ms/step - loss: 0.0920 - acc: 0.9742 - val_loss: 0.3741 - val_acc: 0.8797\n"
          ],
          "name": "stdout"
        }
      ]
    },
    {
      "cell_type": "code",
      "metadata": {
        "id": "Vnpu_bidfYeP",
        "colab_type": "code",
        "outputId": "bbceb6b9-b80b-4e58-c52e-f8faadf7d148",
        "colab": {
          "base_uri": "https://localhost:8080/",
          "height": 295
        }
      },
      "source": [
        "# plot result\n",
        "plot_history(H, 50)"
      ],
      "execution_count": 22,
      "outputs": [
        {
          "output_type": "display_data",
          "data": {
            "image/png": "[encoded data removed]",
            "text/plain": [
              "<Figure size 432x288 with 1 Axes>"
            ]
          },
          "metadata": {
            "tags": []
          }
        }
      ]
    },
    {
      "cell_type": "markdown",
      "metadata": {
        "id": "UEFmsaE3dL84",
        "colab_type": "text"
      },
      "source": [
        "It looked like the model still have room for improvement. To speed up the training, I used a much higher learning rate to facilitate learning.    "
      ]
    },
    {
      "cell_type": "code",
      "metadata": {
        "id": "1zNmTEYqgeU0",
        "colab_type": "code",
        "colab": {
          "base_uri": "https://localhost:8080/",
          "height": 1000
        },
        "outputId": "c0d2fa5f-6c08-4920-e659-1f9e053c185b"
      },
      "source": [
        "model.compile(optimizer=SGD(lr=0.005, momentum=0.9), loss='categorical_crossentropy', metrics=['accuracy'])\n",
        "\n",
        "H = model.fit_generator(aug.flow(X_train, y_train, batch_size=BS),\n",
        "\tvalidation_data=(X_test, y_test), steps_per_epoch=len(X_train) // BS,\n",
        "\tepochs=30)"
      ],
      "execution_count": 25,
      "outputs": [
        {
          "output_type": "stream",
          "text": [
            "Epoch 1/30\n",
            "31/31 [==============================] - 31s 999ms/step - loss: 0.0051 - acc: 0.9994 - val_loss: 0.1677 - val_acc: 0.9424\n",
            "Epoch 2/30\n",
            "31/31 [==============================] - 25s 820ms/step - loss: 0.0033 - acc: 0.9994 - val_loss: 0.2953 - val_acc: 0.9048\n",
            "Epoch 3/30\n",
            "31/31 [==============================] - 25s 816ms/step - loss: 0.0031 - acc: 0.9994 - val_loss: 0.2239 - val_acc: 0.9323\n",
            "Epoch 4/30\n",
            "31/31 [==============================] - 25s 798ms/step - loss: 0.0039 - acc: 0.9994 - val_loss: 0.2277 - val_acc: 0.9298\n",
            "Epoch 5/30\n",
            "31/31 [==============================] - 25s 799ms/step - loss: 0.0050 - acc: 0.9987 - val_loss: 0.2322 - val_acc: 0.9323\n",
            "Epoch 6/30\n",
            "31/31 [==============================] - 25s 798ms/step - loss: 0.0035 - acc: 0.9987 - val_loss: 0.4267 - val_acc: 0.8647\n",
            "Epoch 7/30\n",
            "31/31 [==============================] - 25s 806ms/step - loss: 0.0117 - acc: 0.9981 - val_loss: 0.3753 - val_acc: 0.8972\n",
            "Epoch 8/30\n",
            "31/31 [==============================] - 25s 806ms/step - loss: 0.0087 - acc: 0.9974 - val_loss: 0.1577 - val_acc: 0.9499\n",
            "Epoch 9/30\n",
            "31/31 [==============================] - 24s 790ms/step - loss: 0.0058 - acc: 0.9987 - val_loss: 0.1722 - val_acc: 0.9524\n",
            "Epoch 10/30\n",
            "31/31 [==============================] - 25s 806ms/step - loss: 0.0039 - acc: 0.9994 - val_loss: 0.2842 - val_acc: 0.9273\n",
            "Epoch 11/30\n",
            "31/31 [==============================] - 24s 789ms/step - loss: 0.0025 - acc: 0.9994 - val_loss: 0.2726 - val_acc: 0.9248\n",
            "Epoch 12/30\n",
            "31/31 [==============================] - 25s 806ms/step - loss: 0.0031 - acc: 0.9987 - val_loss: 0.2488 - val_acc: 0.9223\n",
            "Epoch 13/30\n",
            "31/31 [==============================] - 25s 804ms/step - loss: 0.0072 - acc: 0.9981 - val_loss: 0.1417 - val_acc: 0.9599\n",
            "Epoch 14/30\n",
            "31/31 [==============================] - 25s 802ms/step - loss: 0.0022 - acc: 0.9994 - val_loss: 0.2072 - val_acc: 0.9373\n",
            "Epoch 15/30\n",
            "31/31 [==============================] - 25s 796ms/step - loss: 0.0025 - acc: 1.0000 - val_loss: 0.2031 - val_acc: 0.9298\n",
            "Epoch 16/30\n",
            "31/31 [==============================] - 25s 802ms/step - loss: 0.0055 - acc: 0.9981 - val_loss: 0.1582 - val_acc: 0.9449\n",
            "Epoch 17/30\n",
            "31/31 [==============================] - 25s 804ms/step - loss: 0.0044 - acc: 0.9981 - val_loss: 0.1693 - val_acc: 0.9524\n",
            "Epoch 18/30\n",
            "31/31 [==============================] - 25s 804ms/step - loss: 0.0037 - acc: 0.9987 - val_loss: 0.1893 - val_acc: 0.9474\n",
            "Epoch 19/30\n",
            "31/31 [==============================] - 25s 805ms/step - loss: 0.0029 - acc: 0.9994 - val_loss: 0.1901 - val_acc: 0.9424\n",
            "Epoch 20/30\n",
            "31/31 [==============================] - 25s 803ms/step - loss: 0.0018 - acc: 0.9994 - val_loss: 0.3321 - val_acc: 0.9148\n",
            "Epoch 21/30\n",
            "31/31 [==============================] - 25s 805ms/step - loss: 0.0020 - acc: 0.9994 - val_loss: 0.3007 - val_acc: 0.9173\n",
            "Epoch 22/30\n",
            "31/31 [==============================] - 25s 797ms/step - loss: 0.0047 - acc: 0.9987 - val_loss: 0.2100 - val_acc: 0.9373\n",
            "Epoch 23/30\n",
            "31/31 [==============================] - 25s 807ms/step - loss: 0.0019 - acc: 1.0000 - val_loss: 0.2140 - val_acc: 0.9273\n",
            "Epoch 24/30\n",
            "31/31 [==============================] - 25s 799ms/step - loss: 0.0029 - acc: 0.9994 - val_loss: 0.2304 - val_acc: 0.9248\n",
            "Epoch 25/30\n",
            "31/31 [==============================] - 24s 787ms/step - loss: 0.0043 - acc: 0.9987 - val_loss: 0.2720 - val_acc: 0.9248\n",
            "Epoch 26/30\n",
            "31/31 [==============================] - 24s 789ms/step - loss: 0.0038 - acc: 0.9994 - val_loss: 0.2150 - val_acc: 0.9323\n",
            "Epoch 27/30\n",
            "31/31 [==============================] - 25s 801ms/step - loss: 0.0039 - acc: 0.9974 - val_loss: 0.1557 - val_acc: 0.9549\n",
            "Epoch 28/30\n",
            "31/31 [==============================] - 25s 805ms/step - loss: 0.0040 - acc: 0.9994 - val_loss: 0.1198 - val_acc: 0.9649\n",
            "Epoch 29/30\n",
            "31/31 [==============================] - 25s 796ms/step - loss: 0.0062 - acc: 0.9981 - val_loss: 0.1296 - val_acc: 0.9724\n",
            "Epoch 30/30\n",
            "31/31 [==============================] - 25s 804ms/step - loss: 0.0027 - acc: 0.9987 - val_loss: 0.1589 - val_acc: 0.9624\n"
          ],
          "name": "stdout"
        }
      ]
    },
    {
      "cell_type": "code",
      "metadata": {
        "id": "ryidh4cagqoF",
        "colab_type": "code",
        "colab": {
          "base_uri": "https://localhost:8080/",
          "height": 295
        },
        "outputId": "921fff66-d5a8-4bcc-f4a7-b3bc1d7d1f0f"
      },
      "source": [
        "# plot result\n",
        "plot_history(H, 30)"
      ],
      "execution_count": 26,
      "outputs": [
        {
          "output_type": "display_data",
          "data": {
            "image/png": "[encoded data removed]",
            "text/plain": [
              "<Figure size 432x288 with 1 Axes>"
            ]
          },
          "metadata": {
            "tags": []
          }
        }
      ]
    },
    {
      "cell_type": "code",
      "metadata": {
        "id": "qVyFnB55rSF6",
        "colab_type": "code",
        "outputId": "e152e6a8-9a24-4241-fff6-681581b877d9",
        "colab": {
          "base_uri": "https://localhost:8080/",
          "height": 204
        }
      },
      "source": [
        "# check prediction result\n",
        "pred = model.predict(X_test)\n",
        "\n",
        "# show confusion matrix\n",
        "table = confusion_matrix(np.argmax(y_test, axis=1), np.argmax(pred, axis=1))\n",
        "print(table)\n",
        "\n",
        "acc = accuracy_score(np.argmax(y_test, axis=1), np.argmax(pred, axis=1))\n",
        "print(f'Overall accuracy: {round(acc, 3)}')"
      ],
      "execution_count": 27,
      "outputs": [
        {
          "output_type": "stream",
          "text": [
            "[[40  0  0  0  0  0  0  0  0  0]\n",
            " [ 0 54  0  3  0  0  0  0  0  0]\n",
            " [ 0  0 29  6  0  0  0  0  0  0]\n",
            " [ 0  0  0 28  0  0  0  0  0  0]\n",
            " [ 0  0  0  0 31  0  1  0  0  0]\n",
            " [ 0  0  0  0  0 41  0  0  0  0]\n",
            " [ 0  0  0  0  0  2 38  0  0  0]\n",
            " [ 0  0  0  0  0  1  0 34  0  0]\n",
            " [ 1  0  0  0  0  0  1  0 46  0]\n",
            " [ 0  0  0  0  0  0  0  0  0 43]]\n",
            "Overall accuracy: 0.962\n"
          ],
          "name": "stdout"
        }
      ]
    },
    {
      "cell_type": "code",
      "metadata": {
        "id": "0-HsRFG2fmaw",
        "colab_type": "code",
        "outputId": "f0793190-5d2b-42d5-f789-fc6532298130",
        "colab": {
          "base_uri": "https://localhost:8080/",
          "height": 307
        }
      },
      "source": [
        "# function to show heatmap\n",
        "def plot_matrix(t):\n",
        "  tmp = t/t.sum(axis=1)[:,None]\n",
        "  tmp = pd.DataFrame(tmp)\n",
        "  tmp.columns = dir_list\n",
        "  tmp.rename(index={0: 'kitkat', 1: 'm&ms p', 2: 'm&ms m', 3: 'm&ms pb',\n",
        "           4: 'snicker', 5: 'snicker p', 6: 'snicker a', 7: 'reese', 8: 'heath'})\n",
        "\n",
        "  ax = heatmap(tmp, linewidths=0.5)\n",
        "  \n",
        "plot_matrix(table)"
      ],
      "execution_count": 28,
      "outputs": [
        {
          "output_type": "display_data",
          "data": {
            "image/png": "[encoded data removed]",
            "text/plain": [
              "<Figure size 432x288 with 2 Axes>"
            ]
          },
          "metadata": {
            "tags": []
          }
        }
      ]
    },
    {
      "cell_type": "markdown",
      "metadata": {
        "id": "yZ5JCA1Xiw_U",
        "colab_type": "text"
      },
      "source": [
        "Using transfer learning approach with InceptionV3 model, I could archieve about 96% accuracy in candy classification. However, it did not perform very well in classifying M&Ms peanut butter and M&Ms chocolate. Let's me explored a little more with other model for comparison.\n",
        "\n",
        "\n"
      ]
    },
    {
      "cell_type": "markdown",
      "metadata": {
        "id": "_484LKkX47Em",
        "colab_type": "text"
      },
      "source": [
        "## Transfer learning with pre-trained ResNet50 model\n",
        "Next, I tried another modern CNN model, ResNet50. "
      ]
    },
    {
      "cell_type": "code",
      "metadata": {
        "id": "tCaLCPB-NwIp",
        "colab_type": "code",
        "outputId": "cb6100e3-4f4d-4a0d-e7b5-7f1da4dc7e30",
        "colab": {
          "base_uri": "https://localhost:8080/",
          "height": 351
        }
      },
      "source": [
        "from keras.applications.resnet50 import ResNet50\n",
        "from keras.applications.resnet50 import preprocess_input\n",
        "from keras.preprocessing import image\n",
        "from keras.models import Model\n",
        "from keras.layers import Dense, GlobalAveragePooling2D\n",
        "from keras import backend as K\n",
        "\n",
        "# create the base pre-trained model\n",
        "base_model = ResNet50(weights='imagenet', include_top=False)\n",
        "\n",
        "# add a global spatial average pooling layer\n",
        "x = base_model.output\n",
        "x = GlobalAveragePooling2D()(x)\n",
        "# let's add a fully-connected layer\n",
        "x = Dense(256, activation='relu')(x)\n",
        "# and a logistic layer -- let's say we have 200 classes\n",
        "predictions = Dense(len(dir_list), activation='softmax')(x)\n",
        "\n",
        "# this is the model we will train\n",
        "model_res = Model(inputs=base_model.input, outputs=predictions)\n",
        "\n",
        "# first: train only the top layers (which were randomly initialized)\n",
        "# i.e. freeze all convolutional InceptionV3 layers\n",
        "for layer in base_model.layers:\n",
        "    layer.trainable = False\n",
        "\n",
        "# compile the model (should be done *after* setting layers to non-trainable)\n",
        "model_res.compile(optimizer='rmsprop', loss='categorical_crossentropy', metrics=['accuracy'])\n"
      ],
      "execution_count": 43,
      "outputs": [
        {
          "output_type": "stream",
          "text": [
            "WARNING:tensorflow:From /usr/local/lib/python3.6/dist-packages/keras/backend/tensorflow_backend.py:4479: The name tf.truncated_normal is deprecated. Please use tf.random.truncated_normal instead.\n",
            "\n"
          ],
          "name": "stdout"
        },
        {
          "output_type": "stream",
          "text": [
            "/usr/local/lib/python3.6/dist-packages/keras_applications/resnet50.py:265: UserWarning: The output shape of `ResNet50(include_top=False)` has been changed since Keras 2.2.0.\n",
            "  warnings.warn('The output shape of `ResNet50(include_top=False)` '\n"
          ],
          "name": "stderr"
        },
        {
          "output_type": "stream",
          "text": [
            "Downloading data from https://github.com/fchollet/deep-learning-models/releases/download/v0.2/resnet50_weights_tf_dim_ordering_tf_kernels_notop.h5\n",
            "94658560/94653016 [==============================] - 3s 0us/step\n"
          ],
          "name": "stdout"
        }
      ]
    },
    {
      "cell_type": "code",
      "metadata": {
        "id": "q-_HVxVSyVjP",
        "colab_type": "code",
        "colab": {}
      },
      "source": [
        "from keras.applications.resnet50 import preprocess_input\n",
        "X_train, X_test, y_train, y_test = train_test_split(preprocess_input(data), label, test_size=0.2, random_state=123)"
      ],
      "execution_count": 0,
      "outputs": []
    },
    {
      "cell_type": "code",
      "metadata": {
        "id": "KHXYorVuyj_E",
        "colab_type": "code",
        "outputId": "34fae17e-e965-4ced-f24c-c09d6fdf147a",
        "colab": {
          "base_uri": "https://localhost:8080/",
          "height": 187
        }
      },
      "source": [
        "# initialize the number of epochs and batch size\n",
        "EPOCHS = 5\n",
        "BS = 50\n",
        " \n",
        "# train the network\n",
        "R = model_res.fit_generator(aug.flow(X_train, y_train, batch_size=BS),\n",
        "\tvalidation_data=(X_test, y_test), steps_per_epoch=len(X_train) // BS,\n",
        "\tepochs=EPOCHS)"
      ],
      "execution_count": 46,
      "outputs": [
        {
          "output_type": "stream",
          "text": [
            "Epoch 1/5\n",
            "31/31 [==============================] - 32s 1s/step - loss: 1.5867 - acc: 0.6053 - val_loss: 0.9753 - val_acc: 0.6516\n",
            "Epoch 2/5\n",
            "31/31 [==============================] - 26s 829ms/step - loss: 0.3787 - acc: 0.8834 - val_loss: 0.7943 - val_acc: 0.7569\n",
            "Epoch 3/5\n",
            "31/31 [==============================] - 26s 850ms/step - loss: 0.2146 - acc: 0.9353 - val_loss: 0.8180 - val_acc: 0.7594\n",
            "Epoch 4/5\n",
            "31/31 [==============================] - 25s 819ms/step - loss: 0.1837 - acc: 0.9367 - val_loss: 1.1466 - val_acc: 0.6692\n",
            "Epoch 5/5\n",
            "31/31 [==============================] - 25s 809ms/step - loss: 0.1702 - acc: 0.9454 - val_loss: 1.1955 - val_acc: 0.7243\n"
          ],
          "name": "stdout"
        }
      ]
    },
    {
      "cell_type": "code",
      "metadata": {
        "id": "iNlkIdBSNwib",
        "colab_type": "code",
        "outputId": "cd84a387-b4e7-45de-fc7a-4e5da435638f",
        "colab": {
          "base_uri": "https://localhost:8080/",
          "height": 1000
        }
      },
      "source": [
        "# re-train the last 2 blocks\n",
        "for layer in model_res.layers[:80]:\n",
        "   layer.trainable = False\n",
        "for layer in model_res.layers[80:]:\n",
        "   layer.trainable = True\n",
        "\n",
        "model_res.compile(optimizer=SGD(lr=0.005, momentum=0.9), loss='categorical_crossentropy', metrics=['accuracy'])\n",
        "\n",
        "R = model_res.fit_generator(aug.flow(X_train, y_train, batch_size=BS),\n",
        "\tvalidation_data=(X_test, y_test), steps_per_epoch=len(X_train) // BS, epochs=50)\n",
        "\n"
      ],
      "execution_count": 48,
      "outputs": [
        {
          "output_type": "stream",
          "text": [
            "Epoch 1/50\n",
            "31/31 [==============================] - 43s 1s/step - loss: 0.0349 - acc: 0.9923 - val_loss: 0.0701 - val_acc: 0.9749\n",
            "Epoch 2/50\n",
            "31/31 [==============================] - 31s 1s/step - loss: 0.0150 - acc: 0.9974 - val_loss: 0.0954 - val_acc: 0.9649\n",
            "Epoch 3/50\n",
            "31/31 [==============================] - 31s 996ms/step - loss: 0.0118 - acc: 0.9955 - val_loss: 0.0866 - val_acc: 0.9699\n",
            "Epoch 4/50\n",
            "31/31 [==============================] - 31s 992ms/step - loss: 0.0055 - acc: 0.9981 - val_loss: 0.0556 - val_acc: 0.9774\n",
            "Epoch 5/50\n",
            "31/31 [==============================] - 31s 986ms/step - loss: 0.0029 - acc: 1.0000 - val_loss: 0.0396 - val_acc: 0.9799\n",
            "Epoch 6/50\n",
            "31/31 [==============================] - 30s 979ms/step - loss: 0.0075 - acc: 0.9987 - val_loss: 0.0395 - val_acc: 0.9799\n",
            "Epoch 7/50\n",
            "31/31 [==============================] - 30s 979ms/step - loss: 0.0065 - acc: 0.9987 - val_loss: 0.0537 - val_acc: 0.9749\n",
            "Epoch 8/50\n",
            "31/31 [==============================] - 30s 969ms/step - loss: 0.0040 - acc: 0.9994 - val_loss: 0.0343 - val_acc: 0.9825\n",
            "Epoch 9/50\n",
            "31/31 [==============================] - 30s 963ms/step - loss: 0.0029 - acc: 0.9994 - val_loss: 0.0255 - val_acc: 0.9850\n",
            "Epoch 10/50\n",
            "31/31 [==============================] - 30s 956ms/step - loss: 0.0020 - acc: 0.9994 - val_loss: 0.0274 - val_acc: 0.9875\n",
            "Epoch 11/50\n",
            "31/31 [==============================] - 30s 953ms/step - loss: 0.0029 - acc: 0.9994 - val_loss: 0.0597 - val_acc: 0.9724\n",
            "Epoch 12/50\n",
            "31/31 [==============================] - 29s 947ms/step - loss: 0.0013 - acc: 1.0000 - val_loss: 0.0846 - val_acc: 0.9699\n",
            "Epoch 13/50\n",
            "31/31 [==============================] - 29s 951ms/step - loss: 0.0014 - acc: 1.0000 - val_loss: 0.0304 - val_acc: 0.9825\n",
            "Epoch 14/50\n",
            "31/31 [==============================] - 29s 934ms/step - loss: 6.7446e-04 - acc: 1.0000 - val_loss: 0.0280 - val_acc: 0.9875\n",
            "Epoch 15/50\n",
            "31/31 [==============================] - 29s 930ms/step - loss: 4.5882e-04 - acc: 1.0000 - val_loss: 0.0280 - val_acc: 0.9875\n",
            "Epoch 16/50\n",
            "31/31 [==============================] - 29s 932ms/step - loss: 9.4809e-04 - acc: 1.0000 - val_loss: 0.0294 - val_acc: 0.9850\n",
            "Epoch 17/50\n",
            "31/31 [==============================] - 29s 947ms/step - loss: 4.7993e-04 - acc: 1.0000 - val_loss: 0.0262 - val_acc: 0.9875\n",
            "Epoch 18/50\n",
            "31/31 [==============================] - 29s 942ms/step - loss: 0.0022 - acc: 0.9994 - val_loss: 0.0460 - val_acc: 0.9799\n",
            "Epoch 19/50\n",
            "31/31 [==============================] - 29s 948ms/step - loss: 6.5495e-04 - acc: 1.0000 - val_loss: 0.0362 - val_acc: 0.9875\n",
            "Epoch 20/50\n",
            "31/31 [==============================] - 29s 941ms/step - loss: 7.8986e-04 - acc: 1.0000 - val_loss: 0.0279 - val_acc: 0.9875\n",
            "Epoch 21/50\n",
            "31/31 [==============================] - 30s 965ms/step - loss: 7.3583e-04 - acc: 1.0000 - val_loss: 0.0269 - val_acc: 0.9875\n",
            "Epoch 22/50\n",
            "31/31 [==============================] - 30s 961ms/step - loss: 2.9501e-04 - acc: 1.0000 - val_loss: 0.0262 - val_acc: 0.9875\n",
            "Epoch 23/50\n",
            "31/31 [==============================] - 30s 967ms/step - loss: 3.4468e-04 - acc: 1.0000 - val_loss: 0.0232 - val_acc: 0.9875\n",
            "Epoch 24/50\n",
            "31/31 [==============================] - 30s 973ms/step - loss: 3.0867e-04 - acc: 1.0000 - val_loss: 0.0210 - val_acc: 0.9900\n",
            "Epoch 25/50\n",
            "31/31 [==============================] - 30s 975ms/step - loss: 5.5248e-04 - acc: 1.0000 - val_loss: 0.0212 - val_acc: 0.9875\n",
            "Epoch 26/50\n",
            "31/31 [==============================] - 31s 986ms/step - loss: 5.2045e-04 - acc: 1.0000 - val_loss: 0.0215 - val_acc: 0.9875\n",
            "Epoch 27/50\n",
            "31/31 [==============================] - 30s 973ms/step - loss: 4.2979e-04 - acc: 1.0000 - val_loss: 0.0185 - val_acc: 0.9875\n",
            "Epoch 28/50\n",
            "31/31 [==============================] - 30s 971ms/step - loss: 5.9339e-04 - acc: 1.0000 - val_loss: 0.0283 - val_acc: 0.9900\n",
            "Epoch 29/50\n",
            "31/31 [==============================] - 30s 972ms/step - loss: 0.0016 - acc: 1.0000 - val_loss: 0.0255 - val_acc: 0.9900\n",
            "Epoch 30/50\n",
            "31/31 [==============================] - 30s 976ms/step - loss: 7.0723e-04 - acc: 1.0000 - val_loss: 0.0243 - val_acc: 0.9900\n",
            "Epoch 31/50\n",
            "31/31 [==============================] - 30s 964ms/step - loss: 1.8572e-04 - acc: 1.0000 - val_loss: 0.0241 - val_acc: 0.9875\n",
            "Epoch 32/50\n",
            "31/31 [==============================] - 30s 957ms/step - loss: 4.7033e-04 - acc: 1.0000 - val_loss: 0.0303 - val_acc: 0.9850\n",
            "Epoch 33/50\n",
            "31/31 [==============================] - 30s 952ms/step - loss: 4.5211e-04 - acc: 1.0000 - val_loss: 0.0319 - val_acc: 0.9850\n",
            "Epoch 34/50\n",
            "31/31 [==============================] - 31s 1s/step - loss: 6.6583e-04 - acc: 1.0000 - val_loss: 0.0270 - val_acc: 0.9875\n",
            "Epoch 35/50\n",
            "31/31 [==============================] - 31s 1s/step - loss: 3.3809e-04 - acc: 1.0000 - val_loss: 0.0245 - val_acc: 0.9875\n",
            "Epoch 36/50\n",
            "31/31 [==============================] - 31s 985ms/step - loss: 2.6287e-04 - acc: 1.0000 - val_loss: 0.0255 - val_acc: 0.9875\n",
            "Epoch 37/50\n",
            "31/31 [==============================] - 30s 979ms/step - loss: 1.5752e-04 - acc: 1.0000 - val_loss: 0.0264 - val_acc: 0.9875\n",
            "Epoch 38/50\n",
            "31/31 [==============================] - 30s 980ms/step - loss: 2.4383e-04 - acc: 1.0000 - val_loss: 0.0231 - val_acc: 0.9875\n",
            "Epoch 39/50\n",
            "31/31 [==============================] - 30s 965ms/step - loss: 2.4080e-04 - acc: 1.0000 - val_loss: 0.0231 - val_acc: 0.9875\n",
            "Epoch 40/50\n",
            "31/31 [==============================] - 30s 969ms/step - loss: 3.5364e-04 - acc: 1.0000 - val_loss: 0.0208 - val_acc: 0.9875\n",
            "Epoch 41/50\n",
            "31/31 [==============================] - 30s 958ms/step - loss: 4.4283e-04 - acc: 1.0000 - val_loss: 0.0214 - val_acc: 0.9875\n",
            "Epoch 42/50\n",
            "31/31 [==============================] - 30s 960ms/step - loss: 0.0014 - acc: 0.9994 - val_loss: 0.0186 - val_acc: 0.9900\n",
            "Epoch 43/50\n",
            "31/31 [==============================] - 30s 956ms/step - loss: 5.9232e-04 - acc: 1.0000 - val_loss: 0.0180 - val_acc: 0.9900\n",
            "Epoch 44/50\n",
            "31/31 [==============================] - 30s 954ms/step - loss: 4.4229e-04 - acc: 1.0000 - val_loss: 0.0153 - val_acc: 0.9900\n",
            "Epoch 45/50\n",
            "31/31 [==============================] - 30s 953ms/step - loss: 2.9623e-04 - acc: 1.0000 - val_loss: 0.0161 - val_acc: 0.9900\n",
            "Epoch 46/50\n",
            "31/31 [==============================] - 29s 943ms/step - loss: 1.5352e-04 - acc: 1.0000 - val_loss: 0.0164 - val_acc: 0.9900\n",
            "Epoch 47/50\n",
            "31/31 [==============================] - 29s 938ms/step - loss: 3.6937e-04 - acc: 1.0000 - val_loss: 0.0149 - val_acc: 0.9900\n",
            "Epoch 48/50\n",
            "31/31 [==============================] - 29s 936ms/step - loss: 5.4471e-04 - acc: 1.0000 - val_loss: 0.0153 - val_acc: 0.9900\n",
            "Epoch 49/50\n",
            "31/31 [==============================] - 29s 936ms/step - loss: 1.4984e-04 - acc: 1.0000 - val_loss: 0.0181 - val_acc: 0.9925\n",
            "Epoch 50/50\n",
            "31/31 [==============================] - 29s 931ms/step - loss: 3.5518e-04 - acc: 1.0000 - val_loss: 0.0177 - val_acc: 0.9900\n"
          ],
          "name": "stdout"
        }
      ]
    },
    {
      "cell_type": "code",
      "metadata": {
        "id": "d_TBJ0Mn2hDY",
        "colab_type": "code",
        "outputId": "06efb097-be08-4400-833c-61c08a2a6c8f",
        "colab": {
          "base_uri": "https://localhost:8080/",
          "height": 295
        }
      },
      "source": [
        "# plot result\n",
        "plot_history(R, 50)\n"
      ],
      "execution_count": 49,
      "outputs": [
        {
          "output_type": "display_data",
          "data": {
            "image/png": "[encoded data removed]",
            "text/plain": [
              "<Figure size 432x288 with 1 Axes>"
            ]
          },
          "metadata": {
            "tags": []
          }
        }
      ]
    },
    {
      "cell_type": "code",
      "metadata": {
        "id": "j-NuRySnDAEr",
        "colab_type": "code",
        "colab": {
          "base_uri": "https://localhost:8080/",
          "height": 204
        },
        "outputId": "eb6ed7c1-a856-4682-96d4-9f3fcff3927a"
      },
      "source": [
        "# check prediction result\n",
        "pred = model_res.predict(X_test)\n",
        "\n",
        "# show confusion matrix\n",
        "table = confusion_matrix(np.argmax(y_test, axis=1), np.argmax(pred, axis=1))\n",
        "print(table)\n",
        "\n",
        "acc = accuracy_score(np.argmax(y_test, axis=1), np.argmax(pred, axis=1))\n",
        "print(f'Overall accuracy: {round(acc, 3)}')"
      ],
      "execution_count": 50,
      "outputs": [
        {
          "output_type": "stream",
          "text": [
            "[[42  0  0  0  0  0  0  0  0  0]\n",
            " [ 0 55  0  0  0  0  0  0  0  0]\n",
            " [ 0  0 30  2  0  0  0  0  0  0]\n",
            " [ 0  0  0 36  0  0  0  0  0  0]\n",
            " [ 0  0  0  0 41  0  1  0  0  0]\n",
            " [ 0  0  0  0  0 38  0  0  0  0]\n",
            " [ 0  0  0  0  0  0 46  0  0  0]\n",
            " [ 0  0  0  0  0  0  0 27  0  0]\n",
            " [ 0  0  0  0  0  0  0  0 42  0]\n",
            " [ 1  0  0  0  0  0  0  0  0 38]]\n",
            "Overall accuracy: 0.99\n"
          ],
          "name": "stdout"
        }
      ]
    },
    {
      "cell_type": "code",
      "metadata": {
        "id": "qkWVRBCA4EBA",
        "colab_type": "code",
        "colab": {
          "base_uri": "https://localhost:8080/",
          "height": 307
        },
        "outputId": "441112ae-64d4-47d8-9364-1d104ad0f37e"
      },
      "source": [
        "plot_matrix(table)"
      ],
      "execution_count": 51,
      "outputs": [
        {
          "output_type": "display_data",
          "data": {
            "image/png": "[encoded data removed]",
            "text/plain": [
              "<Figure size 432x288 with 2 Axes>"
            ]
          },
          "metadata": {
            "tags": []
          }
        }
      ]
    },
    {
      "cell_type": "markdown",
      "metadata": {
        "id": "4-gz0kcx4lyS",
        "colab_type": "text"
      },
      "source": [
        "For ResNet50, the result was very encouraging. Overall validation accuracy was around 99% with some difficulty only in distinguishing M&Ms chocolate and peanut butter. I decided to focus on this model and fine tune it in the production codes. "
      ]
    },
    {
      "cell_type": "markdown",
      "metadata": {
        "id": "nnsBC9f86iTV",
        "colab_type": "text"
      },
      "source": [
        "## Identifying probability cutoff\n",
        "Even with such high accuracy, missclassification was still an issue since users could provide images of candy that did not belong to the 10 classes. To avoid such case, I analyze the classification probability to determine a cutoff. First, let's looked at the probability of all the correct an wrong classification.  "
      ]
    },
    {
      "cell_type": "code",
      "metadata": {
        "id": "HgnCTuszE5FH",
        "colab_type": "code",
        "outputId": "3e427d1a-d1e5-488c-ab03-0802739f590a",
        "colab": {
          "base_uri": "https://localhost:8080/",
          "height": 204
        }
      },
      "source": [
        "# create dataframe contains test result\n",
        "result = pd.DataFrame({'Prob': np.amax(pred, axis=1),'truth': np.argmax(y_test, axis=1), 'predict': np.argmax(pred, axis=1)})\n",
        "\n",
        "result['correct'] = result['truth']==result['predict']\n",
        "\n",
        "result.head(5)"
      ],
      "execution_count": 52,
      "outputs": [
        {
          "output_type": "execute_result",
          "data": {
            "text/html": [
              "<div>\n",
              "<style scoped>\n",
              "    .dataframe tbody tr th:only-of-type {\n",
              "        vertical-align: middle;\n",
              "    }\n",
              "\n",
              "    .dataframe tbody tr th {\n",
              "        vertical-align: top;\n",
              "    }\n",
              "\n",
              "    .dataframe thead th {\n",
              "        text-align: right;\n",
              "    }\n",
              "</style>\n",
              "<table border=\"1\" class=\"dataframe\">\n",
              "  <thead>\n",
              "    <tr style=\"text-align: right;\">\n",
              "      <th></th>\n",
              "      <th>Prob</th>\n",
              "      <th>truth</th>\n",
              "      <th>predict</th>\n",
              "      <th>correct</th>\n",
              "    </tr>\n",
              "  </thead>\n",
              "  <tbody>\n",
              "    <tr>\n",
              "      <th>0</th>\n",
              "      <td>0.653258</td>\n",
              "      <td>9</td>\n",
              "      <td>9</td>\n",
              "      <td>True</td>\n",
              "    </tr>\n",
              "    <tr>\n",
              "      <th>1</th>\n",
              "      <td>0.999992</td>\n",
              "      <td>4</td>\n",
              "      <td>4</td>\n",
              "      <td>True</td>\n",
              "    </tr>\n",
              "    <tr>\n",
              "      <th>2</th>\n",
              "      <td>0.999998</td>\n",
              "      <td>6</td>\n",
              "      <td>6</td>\n",
              "      <td>True</td>\n",
              "    </tr>\n",
              "    <tr>\n",
              "      <th>3</th>\n",
              "      <td>1.000000</td>\n",
              "      <td>4</td>\n",
              "      <td>4</td>\n",
              "      <td>True</td>\n",
              "    </tr>\n",
              "    <tr>\n",
              "      <th>4</th>\n",
              "      <td>1.000000</td>\n",
              "      <td>7</td>\n",
              "      <td>7</td>\n",
              "      <td>True</td>\n",
              "    </tr>\n",
              "  </tbody>\n",
              "</table>\n",
              "</div>"
            ],
            "text/plain": [
              "       Prob  truth  predict  correct\n",
              "0  0.653258      9        9     True\n",
              "1  0.999992      4        4     True\n",
              "2  0.999998      6        6     True\n",
              "3  1.000000      4        4     True\n",
              "4  1.000000      7        7     True"
            ]
          },
          "metadata": {
            "tags": []
          },
          "execution_count": 52
        }
      ]
    },
    {
      "cell_type": "code",
      "metadata": {
        "id": "EoRSC8zQLhGf",
        "colab_type": "code",
        "outputId": "6147a0d2-a4a1-448b-c447-bb8c46b8b1e2",
        "colab": {
          "base_uri": "https://localhost:8080/",
          "height": 283
        }
      },
      "source": [
        "sns.distplot(result['Prob'][result['correct']==True] , bins=10, color=\"skyblue\", label=\"Correct\", kde=False, rug=True)\n",
        "sns.distplot(result['Prob'][result['correct']!=True] , bins=10, color=\"orange\", label=\"Wrong\", kde=False, rug=True)\n",
        "plt.legend()\n",
        "plt.xlabel('Probability')\n",
        "plt.ylabel('Frequency')\n",
        "plt.show()"
      ],
      "execution_count": 53,
      "outputs": [
        {
          "output_type": "display_data",
          "data": {
            "image/png": "[encoded data removed]",
            "text/plain": [
              "<Figure size 432x288 with 1 Axes>"
            ]
          },
          "metadata": {
            "tags": []
          }
        }
      ]
    },
    {
      "cell_type": "markdown",
      "metadata": {
        "id": "jco0ooDd8MbN",
        "colab_type": "text"
      },
      "source": [
        "The above figure showed that all mis-classification had probability lower than 0.9. For correct classification, most of them have probability over 0.9. In this case, I decided to use 0.9 as my cutoff. Unless the model prediction with classification probability over 0.9, the model would not assign the image to particular candy class."
      ]
    },
    {
      "cell_type": "markdown",
      "metadata": {
        "id": "Gw3N7643-XTj",
        "colab_type": "text"
      },
      "source": [
        "## Summary\n",
        "Both InceptionV3 and ResNet50 performed very well in this project wiht >95% accuracy. However, there were some limitations. For input images dataset, rotation was used with left or right turn of 90 degree. It means that the model may not be able to detect image that are flipped vertically. Increasing the degree in augmentation led to significant decrease in model accuracy. Since this model was used for allergens detection, decrease in accuracy should be avoided if possible.   "
      ]
    }
  ]
}